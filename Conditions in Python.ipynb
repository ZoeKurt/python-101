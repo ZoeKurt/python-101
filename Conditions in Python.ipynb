{
    "cells": [
        {
            "cell_type": "markdown",
            "metadata": {},
            "source": "**Conditions in Python**"
        },
        {
            "cell_type": "code",
            "execution_count": 1,
            "metadata": {},
            "outputs": [
                {
                    "data": {
                        "text/plain": "False"
                    },
                    "execution_count": 1,
                    "metadata": {},
                    "output_type": "execute_result"
                }
            ],
            "source": "a = 5\na == 6"
        },
        {
            "cell_type": "code",
            "execution_count": 2,
            "metadata": {},
            "outputs": [
                {
                    "data": {
                        "text/plain": "True"
                    },
                    "execution_count": 2,
                    "metadata": {},
                    "output_type": "execute_result"
                }
            ],
            "source": "i = 6\ni > 5"
        },
        {
            "cell_type": "code",
            "execution_count": 3,
            "metadata": {},
            "outputs": [
                {
                    "data": {
                        "text/plain": "False"
                    },
                    "execution_count": 3,
                    "metadata": {},
                    "output_type": "execute_result"
                }
            ],
            "source": "i = 2\ni > 5"
        },
        {
            "cell_type": "code",
            "execution_count": 4,
            "metadata": {},
            "outputs": [
                {
                    "data": {
                        "text/plain": "True"
                    },
                    "execution_count": 4,
                    "metadata": {},
                    "output_type": "execute_result"
                }
            ],
            "source": "i = 2\ni != 6"
        },
        {
            "cell_type": "code",
            "execution_count": 6,
            "metadata": {},
            "outputs": [
                {
                    "data": {
                        "text/plain": "False"
                    },
                    "execution_count": 6,
                    "metadata": {},
                    "output_type": "execute_result"
                }
            ],
            "source": "i = 6\ni != 6"
        },
        {
            "cell_type": "code",
            "execution_count": 7,
            "metadata": {},
            "outputs": [
                {
                    "data": {
                        "text/plain": "False"
                    },
                    "execution_count": 7,
                    "metadata": {},
                    "output_type": "execute_result"
                }
            ],
            "source": "\"ACDC\" == \"Michael Jackson\""
        },
        {
            "cell_type": "code",
            "execution_count": 8,
            "metadata": {},
            "outputs": [
                {
                    "data": {
                        "text/plain": "True"
                    },
                    "execution_count": 8,
                    "metadata": {},
                    "output_type": "execute_result"
                }
            ],
            "source": "A = 65\nB = 66\n\"B\" > \"A\""
        },
        {
            "cell_type": "code",
            "execution_count": 9,
            "metadata": {},
            "outputs": [
                {
                    "data": {
                        "text/plain": "True"
                    },
                    "execution_count": 9,
                    "metadata": {},
                    "output_type": "execute_result"
                }
            ],
            "source": "'BA' > 'AB'"
        },
        {
            "cell_type": "code",
            "execution_count": 14,
            "metadata": {},
            "outputs": [
                {
                    "name": "stdout",
                    "output_type": "stream",
                    "text": "you can enter\nmove on\n"
                }
            ],
            "source": "age = 19\nif age > 18:\n    print(\"you can enter\")\nprint(\"move on\")\n    \n"
        },
        {
            "cell_type": "code",
            "execution_count": 13,
            "metadata": {},
            "outputs": [
                {
                    "name": "stdout",
                    "output_type": "stream",
                    "text": "go see Meat Loaf\nmove on\n"
                }
            ],
            "source": "age = 18\nif age > 18:\n    print(\"you can enter\")\nelse:\n    print(\"go see Meat Loaf\")\nprint(\"move on\")"
        },
        {
            "cell_type": "code",
            "execution_count": 15,
            "metadata": {},
            "outputs": [
                {
                    "name": "stdout",
                    "output_type": "stream",
                    "text": "go see Pink Floyd\nmove on\n"
                }
            ],
            "source": "age = 18\n\nif age > 18:\n    print(\"you can enter\")\nelif age == 18:\n    print(\"go see Pink Floyd\")\nelse:\n    print(\"go see Meat Loaf\")\n    \nprint(\"move on\")    \n    "
        },
        {
            "cell_type": "code",
            "execution_count": 17,
            "metadata": {},
            "outputs": [
                {
                    "name": "stdout",
                    "output_type": "stream",
                    "text": "do something..\n"
                }
            ],
            "source": "album_year = 1983\nalbum_year = 1970\n\nif album_year > 1980:\n    print(\"album year is greater than 1980\")\nelse:\n    print(\"do something else\")\n\nprint(\"do something..\")    "
        },
        {
            "cell_type": "code",
            "execution_count": 19,
            "metadata": {},
            "outputs": [
                {
                    "name": "stdout",
                    "output_type": "stream",
                    "text": "do something else\n"
                }
            ],
            "source": "album_year = 1983\nalbum_year = 1970\n\nif album_year > 1980:\n    print(\"album year is greater than 1980\")\nelse:\n    print(\"do something else\")\n\n "
        },
        {
            "cell_type": "code",
            "execution_count": 21,
            "metadata": {},
            "outputs": [
                {
                    "name": "stdout",
                    "output_type": "stream",
                    "text": "album year is greater than 1980\ndo something..\n"
                }
            ],
            "source": "album_year = 1983\n\nif album_year > 1980:\n    print(\"album year is greater than 1980\")\nelse:\n    print(\"less than 1980\")\n    \nprint(\"do something..\")   \n    "
        },
        {
            "cell_type": "code",
            "execution_count": 22,
            "metadata": {},
            "outputs": [
                {
                    "name": "stdout",
                    "output_type": "stream",
                    "text": "Album year was in between 1980 and 1989\n\nDo stuff..\n"
                }
            ],
            "source": "album_year = 1980\n\nif(album_year > 1979) and  (album_year<1990):\n    print(\"Album year was in between 1980 and 1989\")\n    \nprint(\"\")\nprint(\"Do stuff..\")\n\n\n    "
        },
        {
            "cell_type": "code",
            "execution_count": 23,
            "metadata": {},
            "outputs": [
                {
                    "name": "stdout",
                    "output_type": "stream",
                    "text": "Album was not made in the 1980's\n"
                }
            ],
            "source": "album_year = 1990\n\nif(album_year < 1980) or (album_year > 1989):\n    print(\"Album was not made in the 1980's\")\nelse: \n    print(\"The Album was made in the 1980's \")\n\n"
        },
        {
            "cell_type": "code",
            "execution_count": 24,
            "metadata": {},
            "outputs": [
                {
                    "name": "stdout",
                    "output_type": "stream",
                    "text": "album year is not 1984\n"
                }
            ],
            "source": "album_year = 1983\n\nif not (album_year == '1984'):\n    print(\"album year is not 1984\")\n    \n"
        },
        {
            "cell_type": "code",
            "execution_count": null,
            "metadata": {},
            "outputs": [],
            "source": ""
        }
    ],
    "metadata": {
        "kernelspec": {
            "display_name": "Python",
            "language": "python",
            "name": "conda-env-python-py"
        },
        "language_info": {
            "codemirror_mode": {
                "name": "ipython",
                "version": 3
            },
            "file_extension": ".py",
            "mimetype": "text/x-python",
            "name": "python",
            "nbconvert_exporter": "python",
            "pygments_lexer": "ipython3",
            "version": "3.6.12"
        }
    },
    "nbformat": 4,
    "nbformat_minor": 4
}