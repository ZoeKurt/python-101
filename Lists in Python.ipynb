{
    "cells": [
        {
            "cell_type": "markdown",
            "metadata": {},
            "source": "**Lists in Python**"
        },
        {
            "cell_type": "code",
            "execution_count": 1,
            "metadata": {},
            "outputs": [
                {
                    "data": {
                        "text/plain": "['Michael Jackson', 10.1, 1982]"
                    },
                    "execution_count": 1,
                    "metadata": {},
                    "output_type": "execute_result"
                }
            ],
            "source": "L=['Michael Jackson', 10.1, 1982]\nL"
        },
        {
            "cell_type": "code",
            "execution_count": 27,
            "metadata": {},
            "outputs": [
                {
                    "name": "stdout",
                    "output_type": "stream",
                    "text": "Positive Index Michael Jackson \nNegative Index Michael Jackson\nPositive Index 10.1 \nNegative Index 10.1\nPositive Index 1982 \nNegative Index 1982\n"
                }
            ],
            "source": "print(\"Positive Index\" , L[0] , \"\\nNegative Index\" ,L[-3])\nprint('Positive Index', L[1] , \"\\nNegative Index\" ,L[-2])\nprint('Positive Index', L[2] , \"\\nNegative Index\" ,L[-1])"
        },
        {
            "cell_type": "code",
            "execution_count": 32,
            "metadata": {},
            "outputs": [
                {
                    "data": {
                        "text/plain": "['Michael Jackson', 10.1, 1982, [1, 2], ('A', 1)]"
                    },
                    "execution_count": 32,
                    "metadata": {},
                    "output_type": "execute_result"
                }
            ],
            "source": "[\"Michael Jackson\", 10.1, 1982, [1, 2], (\"A\", 1)]"
        },
        {
            "cell_type": "code",
            "execution_count": 39,
            "metadata": {},
            "outputs": [
                {
                    "data": {
                        "text/plain": "['Michael Jackson', 10.1, 1982, 'MJ', 1]"
                    },
                    "execution_count": 39,
                    "metadata": {},
                    "output_type": "execute_result"
                }
            ],
            "source": "[\"Michael Jackson\", 10.1,1982,\"MJ\",1]"
        },
        {
            "cell_type": "code",
            "execution_count": 34,
            "metadata": {},
            "outputs": [
                {
                    "data": {
                        "text/plain": "[]"
                    },
                    "execution_count": 34,
                    "metadata": {},
                    "output_type": "execute_result"
                }
            ],
            "source": "L[3:5]"
        },
        {
            "cell_type": "code",
            "execution_count": 38,
            "metadata": {},
            "outputs": [
                {
                    "data": {
                        "text/plain": "['Michael Jackson', 10.2, 'pop', 10]"
                    },
                    "execution_count": 38,
                    "metadata": {},
                    "output_type": "execute_result"
                }
            ],
            "source": "L=[\"Michael Jackson\", 10.2]\nL.extend(['pop', 10])\nL"
        },
        {
            "cell_type": "code",
            "execution_count": 40,
            "metadata": {},
            "outputs": [
                {
                    "data": {
                        "text/plain": "['Michael Jackson', 10.2, ['pop', 10]]"
                    },
                    "execution_count": 40,
                    "metadata": {},
                    "output_type": "execute_result"
                }
            ],
            "source": "L = [ \"Michael Jackson\", 10.2]\nL.append(['pop', 10])\nL"
        },
        {
            "cell_type": "code",
            "execution_count": 41,
            "metadata": {},
            "outputs": [
                {
                    "data": {
                        "text/plain": "['Michael Jackson', 10.2, 'pop', 10]"
                    },
                    "execution_count": 41,
                    "metadata": {},
                    "output_type": "execute_result"
                }
            ],
            "source": "L=[\"Michael Jackson\", 10.2]\nL.extend(['pop', 10])\nL"
        },
        {
            "cell_type": "code",
            "execution_count": 42,
            "metadata": {},
            "outputs": [
                {
                    "data": {
                        "text/plain": "['Michael Jackson', 10.2, 'pop', 10, ['a', 'b']]"
                    },
                    "execution_count": 42,
                    "metadata": {},
                    "output_type": "execute_result"
                }
            ],
            "source": "L.append(['a', 'b'])\nL"
        },
        {
            "cell_type": "code",
            "execution_count": 43,
            "metadata": {},
            "outputs": [
                {
                    "name": "stdout",
                    "output_type": "stream",
                    "text": "Before Changes: ['disco', 10, 1.2]\nAfter Changes: ['Hard Rock', 10, 1.2]\n"
                }
            ],
            "source": "A=[\"disco\",10, 1.2]\nprint('Before Changes:', A )\nA[0]= 'Hard Rock'\nprint(\"After Changes:\", A)"
        },
        {
            "cell_type": "code",
            "execution_count": 44,
            "metadata": {},
            "outputs": [
                {
                    "name": "stdout",
                    "output_type": "stream",
                    "text": "Before Changes: ['Hard Rock', 10, 1.2]\nAfter Changes: [10, 1.2]\n"
                }
            ],
            "source": "print('Before Changes:', A)\ndel(A[0])\nprint('After Changes:', A)"
        },
        {
            "cell_type": "code",
            "execution_count": 45,
            "metadata": {},
            "outputs": [
                {
                    "data": {
                        "text/plain": "['Hard', 'Rock']"
                    },
                    "execution_count": 45,
                    "metadata": {},
                    "output_type": "execute_result"
                }
            ],
            "source": "\"Hard Rock\".split()"
        },
        {
            "cell_type": "code",
            "execution_count": 47,
            "metadata": {},
            "outputs": [
                {
                    "data": {
                        "text/plain": "['A', 'B', 'C', 'D']"
                    },
                    "execution_count": 47,
                    "metadata": {},
                    "output_type": "execute_result"
                }
            ],
            "source": "'A,B,C,D'.split(',')"
        },
        {
            "cell_type": "code",
            "execution_count": 61,
            "metadata": {},
            "outputs": [
                {
                    "name": "stdout",
                    "output_type": "stream",
                    "text": "A: ['Hard Rock', 10, 1.2]\nB: ['Hard Rock', 10, 1.2]\n"
                }
            ],
            "source": "A=[\"Hard Rock\", 10, 1.2]\nB=A\nprint(\"A:\", A)\nprint(\"B:\", B)"
        },
        {
            "cell_type": "code",
            "execution_count": 62,
            "metadata": {},
            "outputs": [
                {
                    "name": "stdout",
                    "output_type": "stream",
                    "text": "B[0]: Hard Rock\nB[0]: banana\n"
                }
            ],
            "source": "print('B[0]:', B[0])\nA[0] = \"banana\"\nprint('B[0]:', B[0])\n"
        },
        {
            "cell_type": "code",
            "execution_count": 63,
            "metadata": {},
            "outputs": [
                {
                    "data": {
                        "text/plain": "['banana', 10, 1.2]"
                    },
                    "execution_count": 63,
                    "metadata": {},
                    "output_type": "execute_result"
                }
            ],
            "source": "B = A[:]\nB"
        },
        {
            "cell_type": "code",
            "execution_count": 64,
            "metadata": {},
            "outputs": [
                {
                    "name": "stdout",
                    "output_type": "stream",
                    "text": "B[0]: banana\nB[0]: banana\n"
                }
            ],
            "source": "print(\"B[0]:\", B[0])\nA[0]= \"Hard Rock\"\nprint(\"B[0]:\", B[0])\n"
        },
        {
            "cell_type": "code",
            "execution_count": null,
            "metadata": {},
            "outputs": [],
            "source": ""
        }
    ],
    "metadata": {
        "kernelspec": {
            "display_name": "Python",
            "language": "python",
            "name": "conda-env-python-py"
        },
        "language_info": {
            "codemirror_mode": {
                "name": "ipython",
                "version": 3
            },
            "file_extension": ".py",
            "mimetype": "text/x-python",
            "name": "python",
            "nbconvert_exporter": "python",
            "pygments_lexer": "ipython3",
            "version": "3.6.12"
        }
    },
    "nbformat": 4,
    "nbformat_minor": 4
}