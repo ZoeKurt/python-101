{
    "cells": [
        {
            "metadata": {},
            "cell_type": "markdown",
            "source": "**Loops in Python**"
        },
        {
            "metadata": {},
            "cell_type": "code",
            "source": "range(3)",
            "execution_count": 1,
            "outputs": [
                {
                    "data": {
                        "text/plain": "range(0, 3)"
                    },
                    "execution_count": 1,
                    "metadata": {},
                    "output_type": "execute_result"
                }
            ]
        },
        {
            "metadata": {},
            "cell_type": "code",
            "source": "dates = [1982, 1980, 1973]\nN = len(dates)\n\nfor i in range(N):\n    print(dates[i])\n",
            "execution_count": 2,
            "outputs": [
                {
                    "name": "stdout",
                    "output_type": "stream",
                    "text": "1982\n1980\n1973\n"
                }
            ]
        },
        {
            "metadata": {},
            "cell_type": "code",
            "source": "for i in range(0, 8):\n    print(i)\n    ",
            "execution_count": 3,
            "outputs": [
                {
                    "name": "stdout",
                    "output_type": "stream",
                    "text": "0\n1\n2\n3\n4\n5\n6\n7\n"
                }
            ]
        },
        {
            "metadata": {},
            "cell_type": "code",
            "source": "for year in dates:\n    print(year)",
            "execution_count": 4,
            "outputs": [
                {
                    "name": "stdout",
                    "output_type": "stream",
                    "text": "1982\n1980\n1973\n"
                }
            ]
        },
        {
            "metadata": {},
            "cell_type": "code",
            "source": "squares = ['red', 'yellow', 'green', 'purple', 'blue']\n\nfor i in range(0, 5):\n    print(\"Before square\", i, 'is', squares[i])\n    squares[i] = 'white'\n    print(\"After square\", i, 'is', squares[i])\n    ",
            "execution_count": 5,
            "outputs": [
                {
                    "name": "stdout",
                    "output_type": "stream",
                    "text": "Before square 0 is red\nAfter square 0 is white\nBefore square 1 is yellow\nAfter square 1 is white\nBefore square 2 is green\nAfter square 2 is white\nBefore square 3 is purple\nAfter square 3 is white\nBefore square 4 is blue\nAfter square 4 is white\n"
                }
            ]
        },
        {
            "metadata": {},
            "cell_type": "code",
            "source": "squares = ['red', 'yellow', 'green', 'purple', 'blue']\nfor i, square in enumerate(squares):\n    print(i, square)",
            "execution_count": 7,
            "outputs": [
                {
                    "name": "stdout",
                    "output_type": "stream",
                    "text": "0 red\n1 yellow\n2 green\n3 purple\n4 blue\n"
                }
            ]
        },
        {
            "metadata": {},
            "cell_type": "code",
            "source": "dates = [1982, 1980, 1973, 2000]\n\ni = 0\nyear = dates[0]\n\nwhile(year !=1973):\n    print(year)\n    i = i+1\n    year = dates[i]\n    \nprint(\"It took\", i, \"repetitions to get out of loop.\")\n    \n    \n",
            "execution_count": 8,
            "outputs": [
                {
                    "name": "stdout",
                    "output_type": "stream",
                    "text": "1982\n1980\nIt took 2 repetitions to get out of loop.\n"
                }
            ]
        },
        {
            "metadata": {},
            "cell_type": "code",
            "source": "",
            "execution_count": null,
            "outputs": []
        }
    ],
    "metadata": {
        "kernelspec": {
            "name": "python3",
            "display_name": "Python 3.7",
            "language": "python"
        },
        "language_info": {
            "name": "python",
            "version": "3.7.9",
            "mimetype": "text/x-python",
            "codemirror_mode": {
                "name": "ipython",
                "version": 3
            },
            "pygments_lexer": "ipython3",
            "nbconvert_exporter": "python",
            "file_extension": ".py"
        }
    },
    "nbformat": 4,
    "nbformat_minor": 4
}