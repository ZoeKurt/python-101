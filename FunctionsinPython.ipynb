{
    "cells": [
        {
            "cell_type": "markdown",
            "metadata": {},
            "source": "**Functions in Python**"
        },
        {
            "cell_type": "code",
            "execution_count": 3,
            "metadata": {},
            "outputs": [],
            "source": "def add(a):\n    b = a + 1\n    print(a,'if you add one', b)\n    return(b)\n    "
        },
        {
            "cell_type": "code",
            "execution_count": 4,
            "metadata": {},
            "outputs": [
                {
                    "name": "stdout",
                    "output_type": "stream",
                    "text": "Help on function add in module __main__:\n\nadd(a)\n\n"
                }
            ],
            "source": "help(add)"
        },
        {
            "cell_type": "code",
            "execution_count": 5,
            "metadata": {},
            "outputs": [
                {
                    "name": "stdout",
                    "output_type": "stream",
                    "text": "1 if you add one 2\n"
                },
                {
                    "data": {
                        "text/plain": "2"
                    },
                    "execution_count": 5,
                    "metadata": {},
                    "output_type": "execute_result"
                }
            ],
            "source": "add(1)"
        },
        {
            "cell_type": "code",
            "execution_count": 6,
            "metadata": {},
            "outputs": [
                {
                    "name": "stdout",
                    "output_type": "stream",
                    "text": "2 if you add one 3\n"
                },
                {
                    "data": {
                        "text/plain": "3"
                    },
                    "execution_count": 6,
                    "metadata": {},
                    "output_type": "execute_result"
                }
            ],
            "source": "add(2)"
        },
        {
            "cell_type": "code",
            "execution_count": 7,
            "metadata": {},
            "outputs": [
                {
                    "name": "stdout",
                    "output_type": "stream",
                    "text": "24\n"
                }
            ],
            "source": "def mult(a,b):\n    c = a * b\n    return(c)\n    print('This is not printed.')\n    \nresult = mult(12,2)\nprint(result)\n    \n    \n    "
        },
        {
            "cell_type": "code",
            "execution_count": 8,
            "metadata": {},
            "outputs": [
                {
                    "data": {
                        "text/plain": "6"
                    },
                    "execution_count": 8,
                    "metadata": {},
                    "output_type": "execute_result"
                }
            ],
            "source": "mult(2, 3)"
        },
        {
            "cell_type": "code",
            "execution_count": 9,
            "metadata": {},
            "outputs": [
                {
                    "data": {
                        "text/plain": "31.400000000000002"
                    },
                    "execution_count": 9,
                    "metadata": {},
                    "output_type": "execute_result"
                }
            ],
            "source": "mult(10.0, 3.14)"
        },
        {
            "cell_type": "code",
            "execution_count": 11,
            "metadata": {},
            "outputs": [
                {
                    "data": {
                        "text/plain": "' Michael jackson Michael jackson'"
                    },
                    "execution_count": 11,
                    "metadata": {},
                    "output_type": "execute_result"
                }
            ],
            "source": "mult(2, ' Michael jackson')"
        },
        {
            "cell_type": "code",
            "execution_count": 17,
            "metadata": {},
            "outputs": [],
            "source": "def square(a):\n    b = 1\n    c = a * a + b\n    print(a, 'if you square + 1', c)\n    return(c)\n    \n    \n"
        },
        {
            "cell_type": "code",
            "execution_count": 18,
            "metadata": {},
            "outputs": [
                {
                    "name": "stdout",
                    "output_type": "stream",
                    "text": "3 if you square + 1 10\n"
                },
                {
                    "data": {
                        "text/plain": "10"
                    },
                    "execution_count": 18,
                    "metadata": {},
                    "output_type": "execute_result"
                }
            ],
            "source": "x = 3\ny = square(x)\ny"
        },
        {
            "cell_type": "code",
            "execution_count": 19,
            "metadata": {},
            "outputs": [
                {
                    "name": "stdout",
                    "output_type": "stream",
                    "text": "2 if you square + 1 5\n"
                },
                {
                    "data": {
                        "text/plain": "5"
                    },
                    "execution_count": 19,
                    "metadata": {},
                    "output_type": "execute_result"
                }
            ],
            "source": "square(2)"
        },
        {
            "cell_type": "code",
            "execution_count": 24,
            "metadata": {},
            "outputs": [],
            "source": "def MJ():\n    print('Michael Jackson')\n    \ndef MJ1():\n    print('Michael Jackson')\n    return(None)"
        },
        {
            "cell_type": "code",
            "execution_count": 21,
            "metadata": {},
            "outputs": [
                {
                    "name": "stdout",
                    "output_type": "stream",
                    "text": "Michael Jackson\n"
                }
            ],
            "source": "MJ()"
        },
        {
            "cell_type": "code",
            "execution_count": 25,
            "metadata": {},
            "outputs": [
                {
                    "name": "stdout",
                    "output_type": "stream",
                    "text": "Michael Jackson\n"
                }
            ],
            "source": "MJ1()"
        },
        {
            "cell_type": "code",
            "execution_count": 26,
            "metadata": {},
            "outputs": [
                {
                    "name": "stdout",
                    "output_type": "stream",
                    "text": "Michael Jackson\nNone\nMichael Jackson\nNone\n"
                }
            ],
            "source": "print(MJ())\nprint(MJ1())"
        },
        {
            "cell_type": "code",
            "execution_count": 27,
            "metadata": {},
            "outputs": [],
            "source": "def con(a, b):\n    return(a + b)\n    "
        },
        {
            "cell_type": "code",
            "execution_count": 29,
            "metadata": {},
            "outputs": [
                {
                    "data": {
                        "text/plain": "'This is'"
                    },
                    "execution_count": 29,
                    "metadata": {},
                    "output_type": "execute_result"
                }
            ],
            "source": "con('This', ' is')"
        },
        {
            "cell_type": "code",
            "execution_count": 30,
            "metadata": {},
            "outputs": [
                {
                    "data": {
                        "text/plain": "5"
                    },
                    "execution_count": 30,
                    "metadata": {},
                    "output_type": "execute_result"
                }
            ],
            "source": "a1 = 4\nb1 = 5\nc1 = a1 + b1 + 2 * a1 * b1 - 1\nif(c1 < 0):\n    c1 = 0 \nelse:\n    c1 = 5\nc1  "
        },
        {
            "cell_type": "code",
            "execution_count": 31,
            "metadata": {},
            "outputs": [
                {
                    "data": {
                        "text/plain": "0"
                    },
                    "execution_count": 31,
                    "metadata": {},
                    "output_type": "execute_result"
                }
            ],
            "source": "a2 = 0\nb2 = 0\nc2 = a2 + b2 + 2 * a2 * b2 - 1\nif(c2 < 0):\n    c2 = 0 \nelse:\n    c2 = 5\nc2  "
        },
        {
            "cell_type": "code",
            "execution_count": 32,
            "metadata": {},
            "outputs": [],
            "source": "def Equation(a,b):\n    c = a + b + 2 * a * b - 1\n    if(c < 0):\n        c = 0 \n    else:\n        c = 5\n    return(c) "
        },
        {
            "cell_type": "code",
            "execution_count": 34,
            "metadata": {},
            "outputs": [
                {
                    "data": {
                        "text/plain": "5"
                    },
                    "execution_count": 34,
                    "metadata": {},
                    "output_type": "execute_result"
                }
            ],
            "source": "Equation(3, 9)"
        },
        {
            "cell_type": "code",
            "execution_count": 36,
            "metadata": {},
            "outputs": [
                {
                    "name": "stdout",
                    "output_type": "stream",
                    "text": "Michael Jackson Thriller 1980\nOldie\n"
                }
            ],
            "source": "def type_of_album(artist, album, year_released):\n    print(artist, album, year_released)\n    if year_released > 1980:\n        return \"Modern\"\n    else: \n        return \"Oldie\"\nx = type_of_album(\"Michael Jackson\", \"Thriller\", 1980)\nprint(x)\n"
        },
        {
            "cell_type": "code",
            "execution_count": 37,
            "metadata": {},
            "outputs": [],
            "source": "def PrintList(the_list):\n    for element in the_list:\n        print(element)\n        "
        },
        {
            "cell_type": "code",
            "execution_count": 40,
            "metadata": {},
            "outputs": [
                {
                    "name": "stdout",
                    "output_type": "stream",
                    "text": "1\n1\nThe Man\nABC\n"
                }
            ],
            "source": "PrintList(['1', 1, \"The Man\", \"ABC\"])"
        },
        {
            "cell_type": "code",
            "execution_count": 1,
            "metadata": {},
            "outputs": [],
            "source": "def isGoodRating(rating=4):\n    if(rating<7):\n        print(\"This album sucks its rating is\", rating)\n    else:\n        print(\"This album is good its rating is\", rating)"
        },
        {
            "cell_type": "code",
            "execution_count": 3,
            "metadata": {},
            "outputs": [
                {
                    "name": "stdout",
                    "output_type": "stream",
                    "text": "This album sucks its rating is 4\nThis album is good its rating is 10\n"
                }
            ],
            "source": "isGoodRating()\nisGoodRating(10)"
        },
        {
            "cell_type": "code",
            "execution_count": 6,
            "metadata": {},
            "outputs": [
                {
                    "name": "stdout",
                    "output_type": "stream",
                    "text": "Michael Jackson is an artist\n"
                }
            ],
            "source": "artist = \"Michael Jackson\"\ndef printer1(artist):\n    internal_var1 = artist\n    print(artist, \"is an artist\")\n    \nprinter1(artist)\n        \n    "
        },
        {
            "cell_type": "code",
            "execution_count": 8,
            "metadata": {},
            "outputs": [
                {
                    "name": "stdout",
                    "output_type": "stream",
                    "text": "Michael Jackson is an artist\nWhitney Houston is an artist\n"
                }
            ],
            "source": "def printer(artist):\n    global internal_var\n    internal_var= \"Whitney Houston\"\n    print(artist, 'is an artist')\n    \nprinter(artist)\nprinter(internal_var)\n    \n    "
        },
        {
            "cell_type": "code",
            "execution_count": 9,
            "metadata": {},
            "outputs": [
                {
                    "name": "stdout",
                    "output_type": "stream",
                    "text": "AC/DC's rating is: 10.0\nDeep Purple's Rating is: 0.0\nMy favourite band is: AC/DC\n"
                }
            ],
            "source": "myFavouriteBand= 'AC/DC'\n\ndef getBandRating(bandname):\n    if bandname == myFavouriteBand:\n        return 10.0\n    else:\n        return 0.0\n    \nprint(\"AC/DC's rating is:\", getBandRating(\"AC/DC\"))\nprint(\"Deep Purple's Rating is:\", getBandRating(\"Deep Purple\"))\nprint(\"My favourite band is:\", myFavouriteBand)\n    \n    \n    \n"
        },
        {
            "cell_type": "code",
            "execution_count": 11,
            "metadata": {},
            "outputs": [
                {
                    "name": "stdout",
                    "output_type": "stream",
                    "text": "AC/DC's rating is: 10.0\nDeep Purple's rating is: 0.0\nMy favourite band is: AC/DC\n"
                }
            ],
            "source": "def getBandRating(bandname):\n    myFavouriteBand= 'AC/DC'\n    if bandname == myFavouriteBand:\n        return 10.0\n    else:\n        return 0.0\n    \nprint(\"AC/DC's rating is:\", getBandRating(\"AC/DC\"))\nprint(\"Deep Purple's rating is:\", getBandRating(\"Deep Purple\"))\nprint(\"My favourite band is:\", myFavouriteBand)\n    "
        },
        {
            "cell_type": "code",
            "execution_count": 12,
            "metadata": {},
            "outputs": [
                {
                    "name": "stdout",
                    "output_type": "stream",
                    "text": "AC/DC's rating is: 0.0\nDeep Purple's rating is:  10.0\nMy favourite band is: AC/DC\n"
                }
            ],
            "source": "myFavouriteBand = \"AC/DC\"\n\ndef getBandRating(bandname):\n    myFavouriteBand= \"Deep Purple\"\n    if bandname == myFavouriteBand:\n        return 10.0\n    else:\n        return 0.0\n    \nprint(\"AC/DC's rating is:\",getBandRating(\"AC/DC\"))\nprint(\"Deep Purple's rating is: \",getBandRating(\"Deep Purple\"))\nprint(\"My favourite band is:\",myFavouriteBand)"
        },
        {
            "cell_type": "code",
            "execution_count": 13,
            "metadata": {},
            "outputs": [
                {
                    "name": "stdout",
                    "output_type": "stream",
                    "text": "No of Arguments: 3\nHorsefeather\nAdonis\nBone\nNo of Arguments: 4\nSide Car\nLong Island\nMudslide\nCarriage\n"
                }
            ],
            "source": "def printall(*args):\n    print(\"No of Arguments:\", len(args))\n    for argument in args:\n        print(argument)\n        \nprintall('Horsefeather', 'Adonis', 'Bone')\nprintall('Side Car', 'Long Island', 'Mudslide', 'Carriage') \n        \n        "
        },
        {
            "cell_type": "code",
            "execution_count": 14,
            "metadata": {},
            "outputs": [
                {
                    "name": "stdout",
                    "output_type": "stream",
                    "text": "Country : Canada\nProvince : Ontario\nCity : Toronto\n"
                }
            ],
            "source": "def printDictionary(**args):\n    for key in args:\n        print(key + \" : \" + args[key])\n        \nprintDictionary(Country='Canada', Province='Ontario', City='Toronto') "
        },
        {
            "cell_type": "code",
            "execution_count": 15,
            "metadata": {},
            "outputs": [
                {
                    "data": {
                        "text/plain": "['One', 'Two', 'Three', 'Four']"
                    },
                    "execution_count": 15,
                    "metadata": {},
                    "output_type": "execute_result"
                }
            ],
            "source": "def addItems(list):\n    list.append(\"Three\")\n    list.append(\"Four\")\nmyList = [\"One\", \"Two\"]\naddItems(myList)\nmyList\n\n    "
        },
        {
            "cell_type": "code",
            "execution_count": 16,
            "metadata": {},
            "outputs": [],
            "source": "def div(a,b):\n    return(a/b)"
        },
        {
            "cell_type": "code",
            "execution_count": 17,
            "metadata": {},
            "outputs": [],
            "source": "def fillBag(**balls):\n    pass\ndef totalBalls():\n    pass\ndef prob0f(color):\n    pass\ndef proball():\n    pass\n    \n"
        },
        {
            "cell_type": "code",
            "execution_count": null,
            "metadata": {},
            "outputs": [],
            "source": "testBag= dict(red = 12, blue = 20, green = 14, grey = 10)\ntotal = sum(testBag.values())\nprob={}\nfor color in testBag:\n    prob[Color]: testbag[color]/total;\n        \ndef testMsg(passed):\n    if passed:\n        return \"Test Passed\"\n    else:\n        return \"Test Failed\"\n  \nprint(\"fillBag: \")\ntry: \n    fillBag(**testBag)\n    print(testMsg(bag == testBag))\nexcept NameError as e: \n    print('Error! Code: {c}, Message: {m}'.format(c = type(e).__name__, m = str(e)))\nexcept:\n    \n    \n    \n    \n\n\n    \n    \n        \n"
        }
    ],
    "metadata": {
        "kernelspec": {
            "display_name": "Python",
            "language": "python",
            "name": "conda-env-python-py"
        },
        "language_info": {
            "codemirror_mode": {
                "name": "ipython",
                "version": 3
            },
            "file_extension": ".py",
            "mimetype": "text/x-python",
            "name": "python",
            "nbconvert_exporter": "python",
            "pygments_lexer": "ipython3",
            "version": "3.6.12"
        }
    },
    "nbformat": 4,
    "nbformat_minor": 4
}